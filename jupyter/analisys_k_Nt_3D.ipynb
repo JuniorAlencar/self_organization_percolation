{
 "cells": [
  {
   "cell_type": "code",
   "execution_count": 1,
   "metadata": {},
   "outputs": [],
   "source": [
    "from src.results_paper import *\n",
    "import re\n",
    "import glob"
   ]
  },
  {
   "cell_type": "code",
   "execution_count": 33,
   "metadata": {},
   "outputs": [
    {
     "name": "stdout",
     "output_type": "stream",
     "text": [
      "{'L': [1000, 1000, 1000, 1000, 1000, 1000], 'N_samples': [1000, 1000, 1000, 1000, 1000, 1000], 'type_perc': ['bond', 'bond', 'bond', 'bond', 'bond', 'bond'], 'NT': [4000, 2000, 10000, 8000, 1000, 6000], 'k': [1e-05, 1e-05, 1e-05, 1e-05, 1e-05, 1e-05], 'prop': ['p_t', 'p_t', 'p_t', 'p_t', 'p_t', 'p_t']}\n"
     ]
    }
   ],
   "source": [
    "pattern = re.compile(\n",
    "    r\"(?P<type_percolation>bond|node)_percolation\"\n",
    "    r\"/dim_(?P<dim>[23])\"\n",
    "    r\"/L_(?P<L_value>\\d+)_N_samples_(?P<N_s_values>\\d+)\"\n",
    "    r\"/NT_constant/NT_(?P<NT_value>\\d+)/k_(?P<k_value>[\\d\\.eE+-]+)/(?P<prop>p_t)\"\n",
    ")\n",
    "\n",
    "matches = []\n",
    "\n",
    "# Caminho raiz do seu diretório Data\n",
    "root = \"../Data\"\n",
    "\n",
    "for dirpath, dirnames, filenames in os.walk(root):\n",
    "    match = pattern.search(dirpath)\n",
    "    if match:\n",
    "        matches.append(match.groupdict())\n",
    "        \n",
    "# # Exibir os parâmetros extraídos\n",
    "# for m in matches:\n",
    "#     print(m)\n",
    "dict_props_3D = {\"L\":[], \"N_samples\":[], \"type_perc\":[], \"NT\":[], \n",
    "                \"k\":[], \"prop\":[]}\n",
    "\n",
    "for match in matches:\n",
    "    dim = int(match['dim'])\n",
    "    if((dim==3)):\n",
    "        L = int(match['L_value'])\n",
    "        type_perc = match['type_percolation']\n",
    "        N_samples = int(match['N_s_values'])\n",
    "        NT = int(match['NT_value'])\n",
    "        k = float(match['k_value'])\n",
    "        prop = match['prop']\n",
    "        dict_props_3D[\"L\"].append(int(match['L_value']))\n",
    "        dict_props_3D[\"N_samples\"].append(int(match['N_s_values']))\n",
    "        dict_props_3D[\"NT\"].append(int(match['NT_value']))\n",
    "        dict_props_3D[\"k\"].append(float(match['k_value']))\n",
    "        dict_props_3D[\"prop\"].append(match['prop'])\n",
    "        dict_props_3D[\"type_perc\"].append(match['type_percolation'])\n",
    "        \n",
    "# path = f\"../Data/{type_perc}_percolation/dim_{dim}/L_{L}_N_samples_{N_samples}/NT_constant/NT_{NT}/k_{k:.1e}/p_t\"\n",
    "# all_files = glob.glob(os.path.join(path,\"*.npy\"))\n",
    "# print(path)\n",
    "# print(all_files)\n",
    "print(dict_props_3D)\n",
    "\n"
   ]
  }
 ],
 "metadata": {
  "kernelspec": {
   "display_name": "Python 3",
   "language": "python",
   "name": "python3"
  },
  "language_info": {
   "codemirror_mode": {
    "name": "ipython",
    "version": 3
   },
   "file_extension": ".py",
   "mimetype": "text/x-python",
   "name": "python",
   "nbconvert_exporter": "python",
   "pygments_lexer": "ipython3",
   "version": "3.12.3"
  }
 },
 "nbformat": 4,
 "nbformat_minor": 2
}
