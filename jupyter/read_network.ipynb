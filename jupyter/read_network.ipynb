{
 "cells": [
  {
   "cell_type": "code",
   "execution_count": 11,
   "metadata": {},
   "outputs": [
    {
     "name": "stdout",
     "output_type": "stream",
     "text": [
      "Shape da rede: (100, 10000)\n",
      "Rede (exemplo):\n",
      " [[0 1 1 ... 0 0 1]\n",
      " [0 1 1 ... 0 0 0]\n",
      " [0 0 0 ... 0 0 0]\n",
      " ...\n",
      " [0 0 0 ... 0 0 0]\n",
      " [0 0 0 ... 0 0 0]\n",
      " [0 0 0 ... 0 0 0]]\n"
     ]
    }
   ],
   "source": [
    "import numpy as np\n",
    "\n",
    "# Caminho para o arquivo salvo pela função `save_network_as_npz`\n",
    "npz_filename = \"../src/rede.npz\"\n",
    "\n",
    "# Carrega o arquivo\n",
    "data = np.load(npz_filename)\n",
    "\n",
    "# Acessa o array salvo com a chave \"network\"\n",
    "network = data[\"network\"]\n",
    "\n",
    "print(\"Shape da rede:\", network.shape)\n",
    "print(\"Rede (exemplo):\\n\", network)"
   ]
  },
  {
   "cell_type": "code",
   "execution_count": 10,
   "metadata": {},
   "outputs": [
    {
     "name": "stdout",
     "output_type": "stream",
     "text": [
      "Tamanho de p: 100\n",
      "p(t): [0.8 0.  0.  0.  0.  0.  0.  0.  0.  0.  0.  0.  0.  0.  0.  0.  0.  0.\n",
      " 0.  0.  0.  0.  0.  0.  0.  0.  0.  0.  0.  0.  0.  0.  0.  0.  0.  0.\n",
      " 0.  0.  0.  0.  0.  0.  0.  0.  0.  0.  0.  0.  0.  0.  0.  0.  0.  0.\n",
      " 0.  0.  0.  0.  0.  0.  0.  0.  0.  0.  0.  0.  0.  0.  0.  0.  0.  0.\n",
      " 0.  0.  0.  0.  0.  0.  0.  0.  0.  0.  0.  0.  0.  0.  0.  0.  0.  0.\n",
      " 0.  0.  0.  0.  0.  0.  0.  0.  0.  0. ]\n"
     ]
    }
   ],
   "source": [
    "import numpy as np\n",
    "\n",
    "# Caminho para o arquivo salvo pela função `save_p_values_as_npy`\n",
    "npy_filename = \"../src/p.npy\"\n",
    "\n",
    "# Carrega diretamente o vetor p(t)\n",
    "p = np.load(npy_filename)\n",
    "\n",
    "print(\"Tamanho de p:\", len(p))\n",
    "print(\"p(t):\", p)\n"
   ]
  }
 ],
 "metadata": {
  "kernelspec": {
   "display_name": "Python 3",
   "language": "python",
   "name": "python3"
  },
  "language_info": {
   "codemirror_mode": {
    "name": "ipython",
    "version": 3
   },
   "file_extension": ".py",
   "mimetype": "text/x-python",
   "name": "python",
   "nbconvert_exporter": "python",
   "pygments_lexer": "ipython3",
   "version": "3.12.3"
  }
 },
 "nbformat": 4,
 "nbformat_minor": 2
}
